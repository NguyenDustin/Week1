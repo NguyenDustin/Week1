{
 "cells": [
  {
   "cell_type": "code",
   "execution_count": 1,
   "id": "442ae8d9",
   "metadata": {},
   "outputs": [
    {
     "data": {
      "text/plain": [
       "13426"
      ]
     },
     "execution_count": 1,
     "metadata": {},
     "output_type": "execute_result"
    }
   ],
   "source": [
    "13426"
   ]
  },
  {
   "cell_type": "code",
   "execution_count": null,
   "id": "c6541a86",
   "metadata": {},
   "outputs": [
    {
     "name": "stdout",
     "output_type": "stream",
     "text": [
      "7.0\n",
      "21.0\n"
     ]
    }
   ],
   "source": [
    "3.5*2\n",
    "4-2\n",
    "x=3.5*2\n",
    "y = 2*7\n",
    "print(x)\n",
    "print(x+y)\n"
   ]
  }
 ],
 "metadata": {
  "kernelspec": {
   "display_name": "Python 3",
   "language": "python",
   "name": "python3"
  },
  "language_info": {
   "codemirror_mode": {
    "name": "ipython",
    "version": 3
   },
   "file_extension": ".py",
   "mimetype": "text/x-python",
   "name": "python",
   "nbconvert_exporter": "python",
   "pygments_lexer": "ipython3",
   "version": "3.12.1"
  }
 },
 "nbformat": 4,
 "nbformat_minor": 5
}
